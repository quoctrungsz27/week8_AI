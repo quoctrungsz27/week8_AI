{
  "nbformat": 4,
  "nbformat_minor": 0,
  "metadata": {
    "colab": {
      "provenance": [],
      "authorship_tag": "ABX9TyPnLWlM2H3B/uPqiuuBkfpd",
      "include_colab_link": true
    },
    "kernelspec": {
      "name": "python3",
      "display_name": "Python 3"
    },
    "language_info": {
      "name": "python"
    }
  },
  "cells": [
    {
      "cell_type": "markdown",
      "metadata": {
        "id": "view-in-github",
        "colab_type": "text"
      },
      "source": [
        "<a href=\"https://colab.research.google.com/github/quoctrungsz27/week8_AI/blob/main/Perceptron_Iris.ipynb\" target=\"_parent\"><img src=\"https://colab.research.google.com/assets/colab-badge.svg\" alt=\"Open In Colab\"/></a>"
      ]
    },
    {
      "cell_type": "code",
      "execution_count": 2,
      "metadata": {
        "colab": {
          "base_uri": "https://localhost:8080/"
        },
        "id": "1-VYX_5u16o1",
        "outputId": "a552c4a0-42b2-4d4f-8e3c-93ec21123509"
      },
      "outputs": [
        {
          "output_type": "stream",
          "name": "stdout",
          "text": [
            "[[5.1 3.5 1.4 0.2]\n",
            " [4.9 3.  1.4 0.2]\n",
            " [4.7 3.2 1.3 0.2]\n",
            " [4.6 3.1 1.5 0.2]\n",
            " [5.  3.6 1.4 0.2]]\n"
          ]
        }
      ],
      "source": [
        "\n",
        "from sklearn.linear_model import Perceptron\n",
        "from sklearn import datasets  #mnist\n",
        "from sklearn.model_selection import train_test_split\n",
        "from sklearn.metrics import accuracy_score\n",
        "from sklearn.preprocessing import StandardScaler\n",
        "\n",
        "iris = datasets.load_iris()\n",
        "X = iris.data\n",
        "y = iris.target\n",
        "print(X[:5])\n",
        "#print(y)\n",
        "#mnist  "
      ]
    },
    {
      "cell_type": "code",
      "source": [
        "X_train,X_test,y_train,y_test = train_test_split(X,y,test_size = 0.3)\n",
        "sc = StandardScaler()\n",
        "sc.fit(X_train)   #hoc ti le\n",
        "X_train_std = sc.transform(X_train)\n",
        "X_test_std = sc.transform(X_test)\n",
        "print(X_train_std[:5],X_train[:5])\n",
        "print(y[:5])"
      ],
      "metadata": {
        "colab": {
          "base_uri": "https://localhost:8080/"
        },
        "id": "cdNW8OfO2Vae",
        "outputId": "dd7204f4-8f38-4b77-ce83-d66839c667c9"
      },
      "execution_count": 3,
      "outputs": [
        {
          "output_type": "stream",
          "name": "stdout",
          "text": [
            "[[ 0.22542539 -1.99733865  0.76103145  0.4635729 ]\n",
            " [ 1.81153707 -0.36617875  1.49934554  0.86364265]\n",
            " [-1.72671205  0.33288978 -1.34032405 -1.27006273]\n",
            " [-0.50662615  0.79893546 -1.22673726 -1.00334955]\n",
            " [-0.99466051 -1.76431581 -0.20445621 -0.20321004]] [[6.  2.2 5.  1.5]\n",
            " [7.3 2.9 6.3 1.8]\n",
            " [4.4 3.2 1.3 0.2]\n",
            " [5.4 3.4 1.5 0.4]\n",
            " [5.  2.3 3.3 1. ]]\n",
            "[0 0 0 0 0]\n"
          ]
        }
      ]
    },
    {
      "cell_type": "code",
      "source": [
        "\n",
        "model = Perceptron(max_iter=1000, eta0=0.1, random_state = 0) # epoch , toc do hoc 0 - 1 , trang thai lay giai tri ngau nhien\n",
        "model.fit(X_train_std,y_train)\n",
        "y_pred = model.predict(X_test_std)\n",
        "print(y_pred)\n",
        "print(y_test)\n",
        "print('Do chinh xac cua mo hinh:',accuracy_score(y_test,y_pred))"
      ],
      "metadata": {
        "colab": {
          "base_uri": "https://localhost:8080/"
        },
        "id": "kD9VA5k42elt",
        "outputId": "55220dcc-94e8-4753-9461-60f3242a0f95"
      },
      "execution_count": 5,
      "outputs": [
        {
          "output_type": "stream",
          "name": "stdout",
          "text": [
            "[2 1 2 2 2 2 2 2 0 0 0 2 1 2 1 0 0 0 2 2 1 0 0 2 2 0 2 2 2 0 1 2 0 2 2 1 0\n",
            " 2 1 1 2 1 2 1 0]\n",
            "[2 1 2 2 2 2 2 2 0 0 0 2 1 2 1 0 0 0 1 2 1 0 0 2 2 0 2 2 2 0 1 2 0 2 1 1 0\n",
            " 1 1 1 2 1 2 1 0]\n",
            "Do chinh xac cua mo hinh: 0.9333333333333333\n"
          ]
        }
      ]
    }
  ]
}