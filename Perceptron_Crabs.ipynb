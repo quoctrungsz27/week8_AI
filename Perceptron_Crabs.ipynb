{
  "nbformat": 4,
  "nbformat_minor": 0,
  "metadata": {
    "colab": {
      "provenance": [],
      "authorship_tag": "ABX9TyOVXgkMo0OCk7iagNqLFyCB",
      "include_colab_link": true
    },
    "kernelspec": {
      "name": "python3",
      "display_name": "Python 3"
    },
    "language_info": {
      "name": "python"
    }
  },
  "cells": [
    {
      "cell_type": "markdown",
      "metadata": {
        "id": "view-in-github",
        "colab_type": "text"
      },
      "source": [
        "<a href=\"https://colab.research.google.com/github/quoctrungsz27/week8_AI/blob/main/Perceptron_Crabs.ipynb\" target=\"_parent\"><img src=\"https://colab.research.google.com/assets/colab-badge.svg\" alt=\"Open In Colab\"/></a>"
      ]
    },
    {
      "cell_type": "code",
      "execution_count": 1,
      "metadata": {
        "id": "y3X7p63H08zg"
      },
      "outputs": [],
      "source": [
        "import pandas as pd\n",
        "import matplotlib.pyplot as plt\n",
        "url = '/content/crabs.csv'\n",
        "data = pd.read_csv(url)\n",
        "\n",
        "# speies B -> 0   O -> 1\n",
        "# sex M -> 1   F -> 0"
      ]
    },
    {
      "cell_type": "code",
      "source": [
        "\n",
        "from sklearn.linear_model import Perceptron\n",
        "from sklearn.model_selection import train_test_split\n",
        "from sklearn import datasets\n",
        "from sklearn.metrics import accuracy_score\n",
        "from sklearn.preprocessing import StandardScaler\n",
        "\n",
        "# Chuyen du lieu\n",
        "dataReplace = data.replace(to_replace=[\"B\",\"O\",\"M\",\"F\"],value = [0,1,1,0])\n",
        "data_x = dataReplace.drop(['sex'], axis=1)\n",
        "data_y = dataReplace.drop(['speies','index','fontallip','rearwidth',\n",
        "                           'length','width','depth'], axis=1)\n",
        "# Du lieu dau vao\n",
        "X = data_x.to_numpy()\n",
        "y = data_y.to_numpy()\n",
        "print(X)\n",
        "#print(y)"
      ],
      "metadata": {
        "colab": {
          "base_uri": "https://localhost:8080/"
        },
        "id": "RCOvxv8A1VZH",
        "outputId": "187ab9b9-589a-41e2-d61e-4c412c292ad3"
      },
      "execution_count": 2,
      "outputs": [
        {
          "output_type": "stream",
          "name": "stdout",
          "text": [
            "[[ 0.   1.   8.1 ... 16.1 19.   7. ]\n",
            " [ 0.   2.   8.8 ... 18.1 20.8  7.4]\n",
            " [ 0.   3.   9.2 ... 19.  22.4  7.7]\n",
            " ...\n",
            " [ 1.  48.  21.9 ... 42.6 47.4 19.5]\n",
            " [ 1.  49.  22.5 ... 43.  48.7 19.8]\n",
            " [ 1.  50.  23.1 ... 46.2 52.5 21.1]]\n"
          ]
        }
      ]
    },
    {
      "cell_type": "code",
      "source": [
        "\n",
        "X_train,X_test,y_train,y_test = train_test_split(X,y,test_size = 0.3)\n",
        "sc = StandardScaler()\n",
        "sc.fit(X_train)   #hoc ti le\n",
        "X_train_std = sc.transform(X_train)\n",
        "X_test_std = sc.transform(X_test)\n",
        "print(X_train_std[:5],X_train[:5])\n",
        "print(y.T[:10])\n",
        "     "
      ],
      "metadata": {
        "colab": {
          "base_uri": "https://localhost:8080/"
        },
        "id": "2iJEiFPt1bol",
        "outputId": "2c65e396-76af-40b7-a57e-c677dbb35d68"
      },
      "execution_count": 3,
      "outputs": [
        {
          "output_type": "stream",
          "name": "stdout",
          "text": [
            "[[-1.04381619  0.40142121  0.12996186  0.18595302  0.49604484  0.61536192\n",
            "   0.34748942]\n",
            " [-1.04381619 -0.5569047  -1.07346447 -0.81237881 -1.09400852 -0.98790728\n",
            "  -1.09198971]\n",
            " [ 0.95802308 -0.07774174  0.15861486 -0.46680241 -0.11765996 -0.32405363\n",
            "   0.0830953 ]\n",
            " [ 0.95802308 -0.2830973  -0.09926221 -0.6587893  -0.31292967 -0.39920687\n",
            "  -0.21067596]\n",
            " [ 0.95802308 -1.30987505 -0.50040431 -0.00603387 -0.50819938 -0.54951336\n",
            "  -0.44569296]] [[ 0.  32.  16.2 13.3 36.  41.7 15.4]\n",
            " [ 0.  18.  12.  10.7 24.6 28.9 10.5]\n",
            " [ 1.  25.  16.3 11.6 31.6 34.2 14.5]\n",
            " [ 1.  22.  15.4 11.1 30.2 33.6 13.5]\n",
            " [ 1.   7.  14.  12.8 28.8 32.4 12.7]]\n",
            "[[1 1 1 1 1 1 1 1 1 1 1 1 1 1 1 1 1 1 1 1 1 1 1 1 1 1 1 1 1 1 1 1 1 1 1 1\n",
            "  1 1 1 1 1 1 1 1 1 1 1 1 1 1 0 0 0 0 0 0 0 0 0 0 0 0 0 0 0 0 0 0 0 0 0 0\n",
            "  0 0 0 0 0 0 0 0 0 0 0 0 0 0 0 0 0 0 0 0 0 0 0 0 0 0 0 0 1 1 1 1 1 1 1 1\n",
            "  1 1 1 1 1 1 1 1 1 1 1 1 1 1 1 1 1 1 1 1 1 1 1 1 1 1 1 1 1 1 1 1 1 1 1 1\n",
            "  1 1 1 1 1 1 0 0 0 0 0 0 0 0 0 0 0 0 0 0 0 0 0 0 0 0 0 0 0 0 0 0 0 0 0 0\n",
            "  0 0 0 0 0 0 0 0 0 0 0 0 0 0 0 0 0 0 0 0]]\n"
          ]
        }
      ]
    },
    {
      "cell_type": "code",
      "source": [
        "model = Perceptron(max_iter=500, eta0=0.1, random_state = 0) # epoch , toc do hoc 0 - 1 , trang thai lay giai tri ngau nhien\n",
        "model.fit(X_train_std,y_train)\n",
        "y_pred = model.predict(X_test_std)\n",
        "print(y_pred)\n",
        "#print(y_test)\n",
        "print('Do chinh xac cua mo hinh:',accuracy_score(y_test,y_pred))"
      ],
      "metadata": {
        "colab": {
          "base_uri": "https://localhost:8080/"
        },
        "id": "LRajqlPz1eGm",
        "outputId": "593bc7fd-d75b-4133-c9db-916ebfee4889"
      },
      "execution_count": 4,
      "outputs": [
        {
          "output_type": "stream",
          "name": "stdout",
          "text": [
            "[1 0 1 1 1 1 0 0 1 0 1 0 0 1 0 1 1 0 0 1 1 1 0 0 0 0 1 0 0 0 1 1 1 0 0 0 0\n",
            " 1 0 0 1 0 1 1 0 1 0 1 1 0 0 1 1 1 0 0 0 1 1 0]\n",
            "Do chinh xac cua mo hinh: 0.9666666666666667\n"
          ]
        },
        {
          "output_type": "stream",
          "name": "stderr",
          "text": [
            "/usr/local/lib/python3.9/dist-packages/sklearn/utils/validation.py:1143: DataConversionWarning: A column-vector y was passed when a 1d array was expected. Please change the shape of y to (n_samples, ), for example using ravel().\n",
            "  y = column_or_1d(y, warn=True)\n"
          ]
        }
      ]
    }
  ]
}