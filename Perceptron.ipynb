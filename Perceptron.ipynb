{
  "nbformat": 4,
  "nbformat_minor": 0,
  "metadata": {
    "colab": {
      "provenance": [],
      "authorship_tag": "ABX9TyNvhQfGfIIcBU1hL7T60oLF",
      "include_colab_link": true
    },
    "kernelspec": {
      "name": "python3",
      "display_name": "Python 3"
    },
    "language_info": {
      "name": "python"
    }
  },
  "cells": [
    {
      "cell_type": "markdown",
      "metadata": {
        "id": "view-in-github",
        "colab_type": "text"
      },
      "source": [
        "<a href=\"https://colab.research.google.com/github/quoctrungsz27/week8_AI/blob/main/Perceptron.ipynb\" target=\"_parent\"><img src=\"https://colab.research.google.com/assets/colab-badge.svg\" alt=\"Open In Colab\"/></a>"
      ]
    },
    {
      "cell_type": "code",
      "execution_count": 1,
      "metadata": {
        "colab": {
          "base_uri": "https://localhost:8080/"
        },
        "id": "nzyPi4xC0fgq",
        "outputId": "eba65f2c-8f20-4620-e87c-e05b3d95ef7d"
      },
      "outputs": [
        {
          "output_type": "execute_result",
          "data": {
            "text/plain": [
              "1.0"
            ]
          },
          "metadata": {},
          "execution_count": 1
        }
      ],
      "source": [
        "\n",
        "from sklearn.linear_model import Perceptron\n",
        "x = [[0,0],[0,1],[1,0],[1,1]]\n",
        "t = [0,1,1,1]\n",
        "\n",
        "model = Perceptron()\n",
        "model.fit(x,t)\n",
        "model.score(x,t)"
      ]
    },
    {
      "cell_type": "code",
      "source": [
        "\n",
        "x1 = [[0.5,0.5],[0.5,0],[0,0.5],[0.4,0]]\n",
        "y1 = model.predict(x1)\n",
        "model.score(x1,y1)\n",
        "print(y1)"
      ],
      "metadata": {
        "colab": {
          "base_uri": "https://localhost:8080/"
        },
        "id": "HrXovPyv0tKQ",
        "outputId": "f155a6dc-427e-4732-df20-ad9cf2aa9ecd"
      },
      "execution_count": 2,
      "outputs": [
        {
          "output_type": "stream",
          "name": "stdout",
          "text": [
            "[1 0 0 0]\n"
          ]
        }
      ]
    },
    {
      "cell_type": "code",
      "source": [
        "\n",
        "x2 = [[-0.5,-0.5],[-0.5,0.5],[0.3,-0.5],[-0.1,1]]\n",
        "y2 = model.predict(x2)\n",
        "model.score(x2,y2)\n",
        "print(y2)\n"
      ],
      "metadata": {
        "colab": {
          "base_uri": "https://localhost:8080/"
        },
        "id": "gKRWtHyg0wgX",
        "outputId": "90acc1f6-4dd6-47c7-eb23-5accd98b816d"
      },
      "execution_count": 3,
      "outputs": [
        {
          "output_type": "stream",
          "name": "stdout",
          "text": [
            "[0 0 0 1]\n"
          ]
        }
      ]
    }
  ]
}